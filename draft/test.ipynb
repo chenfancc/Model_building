{
 "cells": [
  {
   "cell_type": "code",
   "execution_count": null,
   "id": "initial_id",
   "metadata": {
    "collapsed": true
   },
   "outputs": [],
   "source": [
    "import matplotlib.pyplot as plt\n",
    "import torch\n",
    "from torch import nn\n",
    "from torch.utils.data import TensorDataset, DataLoader\n",
    "from simulation_data import synthetic_data\n",
    "from model import BiLSTM\n",
    "from train_net import train_net"
   ]
  },
  {
   "metadata": {},
   "cell_type": "code",
   "outputs": [],
   "execution_count": null,
   "source": [
    "data, label = synthetic_data(10, 24, 7, 0.5)\n",
    "y_1_value = data[1,:, 0].tolist()\n",
    "y_2_value = data[-1,:, 0].tolist()\n",
    "x_values = torch.arange(24).tolist()\n",
    "plt.plot(x_values, y_1_value, y_2_value)"
   ],
   "id": "e344779100612c3b"
  }
 ],
 "metadata": {
  "kernelspec": {
   "display_name": "Python 3",
   "language": "python",
   "name": "python3"
  },
  "language_info": {
   "codemirror_mode": {
    "name": "ipython",
    "version": 2
   },
   "file_extension": ".py",
   "mimetype": "text/x-python",
   "name": "python",
   "nbconvert_exporter": "python",
   "pygments_lexer": "ipython2",
   "version": "2.7.6"
  }
 },
 "nbformat": 4,
 "nbformat_minor": 5
}
