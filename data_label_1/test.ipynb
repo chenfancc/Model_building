{
 "cells": [
  {
   "cell_type": "code",
   "id": "initial_id",
   "metadata": {
    "collapsed": true,
    "ExecuteTime": {
     "end_time": "2024-05-13T17:19:33.584225Z",
     "start_time": "2024-05-13T17:19:33.554830Z"
    }
   },
   "source": [
    "import pandas as pd\n",
    "import numpy as np\n",
    "from tqdm import tqdm\n",
    "import time\n",
    "from datetime import datetime\n",
    "\n",
    "\n",
    "\n",
    "def tick_label(numpy_array, time_DIF, type):\n",
    "    time_column = np.zeros(numpy_array.shape[0], dtype=float)\n",
    "    for stay_id in tqdm(np.unique(numpy_array[:, 2]), desc=\"Processing IDs\"):  # 添加进度条\n",
    "        # print(id)\n",
    "        first_row_index = np.where(numpy_array[:, 2] == stay_id)[0][0]\n",
    "        # print(first_row_index)\n",
    "        first_time = pd.Timestamp(numpy_array[first_row_index, 5])\n",
    "        # print(first_time)\n",
    "\n",
    "        rows_with_id = np.where(numpy_array[:, 2] == stay_id)[0]\n",
    "        # print(rows_with_id)\n",
    "        time_column[rows_with_id] = (\n",
    "                                            pd.to_datetime(\n",
    "                                                numpy_array[rows_with_id, 5]) - first_time).total_seconds() // 3600\n",
    "        # print(time_column[rows_with_id])\n",
    "        # break\n",
    "    numpy_array = np.column_stack((numpy_array, time_column))\n",
    "\n",
    "    label_column = np.zeros(numpy_array.shape[0], dtype=int)\n",
    "    for idx in tqdm(range(numpy_array.shape[0]), desc=\"Processing rows\"):  # 添加进度条\n",
    "        time_diff = (pd.to_datetime(numpy_array[idx, 3]) -\n",
    "                     pd.to_datetime(numpy_array[idx, 5])).total_seconds() // 3600\n",
    "        if time_diff <= time_DIF:\n",
    "            label_column[idx] = 1\n",
    "        else:\n",
    "            label_column[idx] = 0\n",
    "        # break\n",
    "    numpy_array = np.column_stack((numpy_array, label_column))\n",
    "\n",
    "    numpy_array_dropped = np.delete(numpy_array, [0, 1, 3, 4, 5], axis=1)\n",
    "    # print(numpy_array_dropped)\n",
    "    if type == \"blood\":\n",
    "        df = pd.DataFrame(numpy_array_dropped, columns=['stay_id', 'sbp', 'dbp', 'map', 'time', 'label'])\n",
    "        print(df)\n",
    "        df_mean = df.groupby(['stay_id', 'time']).mean().reset_index()\n",
    "    elif type == \"hr\":\n",
    "        df = pd.DataFrame(numpy_array_dropped, columns=['stay_id', 'hr', 'time', 'label'])\n",
    "        df_mean = df.groupby(['stay_id', 'time']).mean().reset_index()\n",
    "    elif type == \"rr\":\n",
    "        df = pd.DataFrame(numpy_array_dropped, columns=['stay_id', 'rr', 'time', 'label'])\n",
    "        df_mean = df.groupby(['stay_id', 'time']).mean().reset_index()\n",
    "    elif type == \"spo2\":\n",
    "        df = pd.DataFrame(numpy_array_dropped, columns=['stay_id', 'spo2', 'time', 'label'])\n",
    "        df_mean = df.groupby(['stay_id', 'time']).mean().reset_index()\n",
    "    elif type == \"temp\":\n",
    "        df = pd.DataFrame(numpy_array_dropped, columns=['stay_id', 'temp', 'time', 'label'])\n",
    "        df_mean = df.groupby(['stay_id', 'time']).mean().reset_index()\n",
    "    \n",
    "    df_mean['time'] = df_mean['time'].astype(int)  # 将时间列转换为整数类型\n",
    "    df_mean['label'] = df_mean['label'].astype(int)  # 将标签列转换为整数类型\n",
    "    \n",
    "    return df_mean\n",
    "\n",
    "current_time = datetime.now().strftime(\"%Y-%m-%d %H:%M:%S\")  # 获取当前时间\n",
    "print(\"Start Time =\", current_time)\n",
    "\n",
    "# time.sleep(60*30)  # 暂停 10 秒\n",
    "\n",
    "current_time = datetime.now().strftime(\"%Y-%m-%d %H:%M:%S\")  # 获取当前时间\n",
    "print(\"Start Time =\", current_time)\n",
    "\n",
    "# ad_excel(\"../data/raw_data/blood_pressure_with_label.xlsx\")\n"
   ],
   "outputs": [
    {
     "name": "stdout",
     "output_type": "stream",
     "text": [
      "Start Time = 2024-05-14 01:19:33\n",
      "Start Time = 2024-05-14 01:19:33\n"
     ]
    }
   ],
   "execution_count": 25
  },
  {
   "metadata": {
    "ExecuteTime": {
     "end_time": "2024-05-13T17:19:38.699749Z",
     "start_time": "2024-05-13T17:19:36.032010Z"
    }
   },
   "cell_type": "code",
   "source": [
    "df_1 = pd.read_excel(\"../data/raw_data/test.xlsx\")\n",
    "numpy_array_1 = df_1.to_numpy()\n",
    "print(\"numpy_array_1 has been loaded\")\n",
    "\n",
    "# df_2 = pd.read_excel(\"../data/raw_data/heart_rate_with_label.xlsx\")\n",
    "# numpy_array_2 = df_2.to_numpy()\n",
    "# print(\"numpy_array_2 has been loaded\")\n",
    "# \n",
    "# df_3 = pd.read_excel(\"../data/raw_data/respiratory_rate_with_label.xlsx\")\n",
    "# numpy_array_3 = df_3.to_numpy()\n",
    "# print(\"numpy_array_3 has been loaded\")\n",
    "# \n",
    "# df_4 = pd.read_excel(\"../data/raw_data/spo2_with_label.xlsx\")\n",
    "# numpy_array_4 = df_4.to_numpy()\n",
    "# print(\"numpy_array_4 has been loaded\")\n",
    "# \n",
    "# df_5 = pd.read_excel(\"../data/raw_data/temperature_with_label.xlsx\")\n",
    "# numpy_array_5 = df_5.to_numpy()\n",
    "# print(\"numpy_array_5 has been loaded\")\n",
    "\n",
    "for i in [20, 24, 30, 36, 48]:\n",
    "    print(f\"i = {i}\")\n",
    "    data_1 = tick_label(numpy_array_1, i, \"blood\")\n",
    "    # data_2 = tick_label(numpy_array_2, i)\n",
    "    # data_3 = tick_label(numpy_array_3, i)\n",
    "    # data_4 = tick_label(numpy_array_4, i)\n",
    "    # data_5 = tick_label(numpy_array_5, i)\n",
    "    print(data_1)\n",
    "    data_1.to_csv(f\"../data/label_1/test—{i}.csv\", index=False)\n",
    "\n",
    "\n",
    "    break\n"
   ],
   "id": "9c0a6e5dae6efe6c",
   "outputs": [
    {
     "name": "stdout",
     "output_type": "stream",
     "text": [
      "numpy_array_1 has been loaded\n",
      "i = 20\n"
     ]
    },
    {
     "name": "stderr",
     "output_type": "stream",
     "text": [
      "Processing IDs: 100%|██████████| 23/23 [00:00<00:00, 1475.42it/s]\n",
      "Processing rows: 100%|██████████| 3338/3338 [00:00<00:00, 15096.65it/s]\n"
     ]
    },
    {
     "name": "stdout",
     "output_type": "stream",
     "text": [
      "       stay_id    sbp   dbp    map  time label\n",
      "0     36753397  109.0  42.0   64.0   0.0     0\n",
      "1     36753397  116.0  45.0   69.0   1.0     0\n",
      "2     36753397  111.0  39.0   63.0   2.0     0\n",
      "3     36753397  101.0  41.0   63.0   3.0     0\n",
      "4     36753397   79.0  34.0   50.0   4.0     0\n",
      "...        ...    ...   ...    ...   ...   ...\n",
      "3333  32119133  169.0  86.0  108.0  66.0     0\n",
      "3334  32119133  144.0  51.0   76.0  68.0     0\n",
      "3335  32119133  146.0  71.0   96.0  72.0     0\n",
      "3336  32119133  147.0  68.0   94.0  77.0     0\n",
      "3337  32119133  119.0  68.0    NaN  81.0     0\n",
      "\n",
      "[3338 rows x 6 columns]\n",
      "       stay_id  time    sbp   dbp    map  label\n",
      "0     30613295     0   96.8  50.8   68.2      0\n",
      "1     30613295     1  111.0  57.0   77.0      0\n",
      "2     30613295     2  115.0  60.0   81.0      0\n",
      "3     30613295     3  109.0  54.0   76.0      0\n",
      "4     30613295     4  100.0  52.0   71.0      0\n",
      "...        ...   ...    ...   ...    ...    ...\n",
      "2965  39987914    43  115.0  76.0   89.0      0\n",
      "2966  39987914    45  118.0  74.0    NaN      0\n",
      "2967  39987914    49  116.0  74.0    NaN      0\n",
      "2968  39987914    54  132.0  79.0   93.0      0\n",
      "2969  39987914    58  138.0  92.0  107.0      0\n",
      "\n",
      "[2970 rows x 6 columns]\n"
     ]
    }
   ],
   "execution_count": 26
  },
  {
   "metadata": {},
   "cell_type": "code",
   "outputs": [],
   "execution_count": null,
   "source": "",
   "id": "3f3972f49fb79792"
  }
 ],
 "metadata": {
  "kernelspec": {
   "display_name": "Python 3",
   "language": "python",
   "name": "python3"
  },
  "language_info": {
   "codemirror_mode": {
    "name": "ipython",
    "version": 2
   },
   "file_extension": ".py",
   "mimetype": "text/x-python",
   "name": "python",
   "nbconvert_exporter": "python",
   "pygments_lexer": "ipython2",
   "version": "2.7.6"
  }
 },
 "nbformat": 4,
 "nbformat_minor": 5
}
